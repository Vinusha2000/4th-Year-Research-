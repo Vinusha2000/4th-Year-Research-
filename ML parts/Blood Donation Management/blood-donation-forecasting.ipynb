{
 "cells": [
  {
   "cell_type": "code",
   "execution_count": 10,
   "metadata": {},
   "outputs": [],
   "source": [
    "import pickle, os\n",
    "import numpy as np\n",
    "import pandas as pd\n",
    "from collections import defaultdict \n",
    "from sklearn.model_selection import train_test_split\n",
    "from sklearn.preprocessing import LabelEncoder, StandardScaler"
   ]
  },
  {
   "attachments": {},
   "cell_type": "markdown",
   "metadata": {},
   "source": [
    "# Load Data"
   ]
  },
  {
   "cell_type": "code",
   "execution_count": 11,
   "metadata": {},
   "outputs": [],
   "source": [
    "def load_data(\n",
    "            data_path = 'data/dataset.csv',  # data path corrected\n",
    "            cat_cols = ['Blood type', 'Gender', 'Doner Province', 'Camp held provinces'],\n",
    "            label_encoder_path = 'weights/donation-2023/label_encoder.pkl',\n",
    "            ):\n",
    "    \"\"\"Load data from csv file\"\"\"\n",
    "    data = pd.read_csv(data_path)\n",
    "    del data['Blood camp held date']\n",
    "    del data['Last donated date']\n",
    "    \n",
    "    columns = data.columns.values\n",
    "    data.columns = [col.strip() for col in columns]\n",
    "    for col in data.columns:\n",
    "        data[col] = data[col].astype(str).str.strip()\n",
    "    data = data.dropna(axis=0, how='any')\n",
    "    \n",
    "    # Load label encoder\n",
    "    d = defaultdict(LabelEncoder)\n",
    "    if os.path.exists(label_encoder_path):\n",
    "        with open(label_encoder_path, 'rb') as f:\n",
    "            d = pickle.load(f)\n",
    "        for col in cat_cols:\n",
    "            data[col] = d[col].transform(data[col])\n",
    "    else:\n",
    "        for col in cat_cols:\n",
    "            data[col] = d[col].fit_transform(data[col])\n",
    "        with open(label_encoder_path, 'wb') as f:\n",
    "            pickle.dump(d, f)\n",
    "    \n",
    "    for col in data.columns:\n",
    "        data[col] = data[col].astype(float)\n",
    "\n",
    "    Y = data['Label'].values\n",
    "    X = data.drop(['Label'], axis=1).values\n",
    "    return X, Y, d"
   ]
  },
  {
   "cell_type": "code",
   "execution_count": 12,
   "metadata": {},
   "outputs": [],
   "source": [
    "inputs, outputs, d = load_data()\n",
    "X_train, X_test, y_train, y_test = train_test_split(inputs, outputs, test_size=0.2, random_state=42)\n",
    "\n",
    "scaler = StandardScaler()\n",
    "X_train = scaler.fit_transform(inputs)\n",
    "X_test = scaler.transform(X_test)\n",
    "\n",
    "with open('weights/donation-2023/scaler.pkl', 'wb') as f:\n",
    "    pickle.dump(scaler, f)"
   ]
  },
  {
   "attachments": {},
   "cell_type": "markdown",
   "metadata": {},
   "source": [
    "# Models"
   ]
  },
  {
   "cell_type": "code",
   "execution_count": 13,
   "metadata": {},
   "outputs": [],
   "source": [
    "import seaborn as sns\n",
    "from sklearn.svm import SVC\n",
    "from xgboost import XGBClassifier\n",
    "from matplotlib import pyplot as plt\n",
    "from sklearn.neighbors import KNeighborsClassifier\n",
    "from sklearn.ensemble import RandomForestClassifier\n",
    "from sklearn.metrics import accuracy_score, confusion_matrix, classification_report"
   ]
  },
  {
   "cell_type": "code",
   "execution_count": 14,
   "metadata": {},
   "outputs": [
    {
     "data": {
      "text/html": [
       "<style>#sk-container-id-1 {color: black;background-color: white;}#sk-container-id-1 pre{padding: 0;}#sk-container-id-1 div.sk-toggleable {background-color: white;}#sk-container-id-1 label.sk-toggleable__label {cursor: pointer;display: block;width: 100%;margin-bottom: 0;padding: 0.3em;box-sizing: border-box;text-align: center;}#sk-container-id-1 label.sk-toggleable__label-arrow:before {content: \"▸\";float: left;margin-right: 0.25em;color: #696969;}#sk-container-id-1 label.sk-toggleable__label-arrow:hover:before {color: black;}#sk-container-id-1 div.sk-estimator:hover label.sk-toggleable__label-arrow:before {color: black;}#sk-container-id-1 div.sk-toggleable__content {max-height: 0;max-width: 0;overflow: hidden;text-align: left;background-color: #f0f8ff;}#sk-container-id-1 div.sk-toggleable__content pre {margin: 0.2em;color: black;border-radius: 0.25em;background-color: #f0f8ff;}#sk-container-id-1 input.sk-toggleable__control:checked~div.sk-toggleable__content {max-height: 200px;max-width: 100%;overflow: auto;}#sk-container-id-1 input.sk-toggleable__control:checked~label.sk-toggleable__label-arrow:before {content: \"▾\";}#sk-container-id-1 div.sk-estimator input.sk-toggleable__control:checked~label.sk-toggleable__label {background-color: #d4ebff;}#sk-container-id-1 div.sk-label input.sk-toggleable__control:checked~label.sk-toggleable__label {background-color: #d4ebff;}#sk-container-id-1 input.sk-hidden--visually {border: 0;clip: rect(1px 1px 1px 1px);clip: rect(1px, 1px, 1px, 1px);height: 1px;margin: -1px;overflow: hidden;padding: 0;position: absolute;width: 1px;}#sk-container-id-1 div.sk-estimator {font-family: monospace;background-color: #f0f8ff;border: 1px dotted black;border-radius: 0.25em;box-sizing: border-box;margin-bottom: 0.5em;}#sk-container-id-1 div.sk-estimator:hover {background-color: #d4ebff;}#sk-container-id-1 div.sk-parallel-item::after {content: \"\";width: 100%;border-bottom: 1px solid gray;flex-grow: 1;}#sk-container-id-1 div.sk-label:hover label.sk-toggleable__label {background-color: #d4ebff;}#sk-container-id-1 div.sk-serial::before {content: \"\";position: absolute;border-left: 1px solid gray;box-sizing: border-box;top: 0;bottom: 0;left: 50%;z-index: 0;}#sk-container-id-1 div.sk-serial {display: flex;flex-direction: column;align-items: center;background-color: white;padding-right: 0.2em;padding-left: 0.2em;position: relative;}#sk-container-id-1 div.sk-item {position: relative;z-index: 1;}#sk-container-id-1 div.sk-parallel {display: flex;align-items: stretch;justify-content: center;background-color: white;position: relative;}#sk-container-id-1 div.sk-item::before, #sk-container-id-1 div.sk-parallel-item::before {content: \"\";position: absolute;border-left: 1px solid gray;box-sizing: border-box;top: 0;bottom: 0;left: 50%;z-index: -1;}#sk-container-id-1 div.sk-parallel-item {display: flex;flex-direction: column;z-index: 1;position: relative;background-color: white;}#sk-container-id-1 div.sk-parallel-item:first-child::after {align-self: flex-end;width: 50%;}#sk-container-id-1 div.sk-parallel-item:last-child::after {align-self: flex-start;width: 50%;}#sk-container-id-1 div.sk-parallel-item:only-child::after {width: 0;}#sk-container-id-1 div.sk-dashed-wrapped {border: 1px dashed gray;margin: 0 0.4em 0.5em 0.4em;box-sizing: border-box;padding-bottom: 0.4em;background-color: white;}#sk-container-id-1 div.sk-label label {font-family: monospace;font-weight: bold;display: inline-block;line-height: 1.2em;}#sk-container-id-1 div.sk-label-container {text-align: center;}#sk-container-id-1 div.sk-container {/* jupyter's `normalize.less` sets `[hidden] { display: none; }` but bootstrap.min.css set `[hidden] { display: none !important; }` so we also need the `!important` here to be able to override the default hidden behavior on the sphinx rendered scikit-learn.org. See: https://github.com/scikit-learn/scikit-learn/issues/21755 */display: inline-block !important;position: relative;}#sk-container-id-1 div.sk-text-repr-fallback {display: none;}</style><div id=\"sk-container-id-1\" class=\"sk-top-container\"><div class=\"sk-text-repr-fallback\"><pre>KNeighborsClassifier()</pre><b>In a Jupyter environment, please rerun this cell to show the HTML representation or trust the notebook. <br />On GitHub, the HTML representation is unable to render, please try loading this page with nbviewer.org.</b></div><div class=\"sk-container\" hidden><div class=\"sk-item\"><div class=\"sk-estimator sk-toggleable\"><input class=\"sk-toggleable__control sk-hidden--visually\" id=\"sk-estimator-id-1\" type=\"checkbox\" checked><label for=\"sk-estimator-id-1\" class=\"sk-toggleable__label sk-toggleable__label-arrow\">KNeighborsClassifier</label><div class=\"sk-toggleable__content\"><pre>KNeighborsClassifier()</pre></div></div></div></div></div>"
      ],
      "text/plain": [
       "KNeighborsClassifier()"
      ]
     },
     "execution_count": 14,
     "metadata": {},
     "output_type": "execute_result"
    }
   ],
   "source": [
    "# Random Forest Classifier\n",
    "\n",
    "rfc = RandomForestClassifier(\n",
    "                            n_estimators=100, \n",
    "                            random_state=42\n",
    "                            )\n",
    "rfc.fit(X_train, outputs)\n",
    "\n",
    "# XGBoost Classifier\n",
    "\n",
    "xgb = XGBClassifier(\n",
    "                    n_estimators=100,   \n",
    "                    random_state=42\n",
    "                    )\n",
    "xgb.fit(X_train, outputs)\n",
    "\n",
    "# Support Vector Machine\n",
    "\n",
    "svc = SVC(\n",
    "        kernel='linear',\n",
    "        random_state=42\n",
    "        )\n",
    "svc.fit(X_train, outputs)\n",
    "\n",
    "# KNN Classifier\n",
    "\n",
    "knn = KNeighborsClassifier(\n",
    "                            n_neighbors=5,\n",
    "                            metric='minkowski',\n",
    "                            p=2\n",
    "                            )\n",
    "knn.fit(X_train, outputs)"
   ]
  },
  {
   "cell_type": "code",
   "execution_count": 15,
   "metadata": {},
   "outputs": [],
   "source": [
    "P_rfc = rfc.predict(X_test)\n",
    "P_xgb = xgb.predict(X_test)\n",
    "P_svc = svc.predict(X_test)\n",
    "P_knn = knn.predict(X_test)"
   ]
  },
  {
   "cell_type": "code",
   "execution_count": 16,
   "metadata": {},
   "outputs": [
    {
     "name": "stdout",
     "output_type": "stream",
     "text": [
      "Classification Report - Random Forest Classifier\n",
      "              precision    recall  f1-score   support\n",
      "\n",
      "         0.0       1.00      1.00      1.00       120\n",
      "         1.0       1.00      1.00      1.00        80\n",
      "\n",
      "    accuracy                           1.00       200\n",
      "   macro avg       1.00      1.00      1.00       200\n",
      "weighted avg       1.00      1.00      1.00       200\n",
      "\n",
      "\n",
      "Classification Report - XGBoost Classifier\n",
      "              precision    recall  f1-score   support\n",
      "\n",
      "         0.0       1.00      1.00      1.00       120\n",
      "         1.0       1.00      1.00      1.00        80\n",
      "\n",
      "    accuracy                           1.00       200\n",
      "   macro avg       1.00      1.00      1.00       200\n",
      "weighted avg       1.00      1.00      1.00       200\n",
      "\n",
      "\n",
      "Classification Report - Support Vector Machine\n",
      "              precision    recall  f1-score   support\n",
      "\n",
      "         0.0       0.60      1.00      0.75       120\n",
      "         1.0       0.00      0.00      0.00        80\n",
      "\n",
      "    accuracy                           0.60       200\n",
      "   macro avg       0.30      0.50      0.37       200\n",
      "weighted avg       0.36      0.60      0.45       200\n",
      "\n",
      "\n",
      "Classification Report - KNN Classifier\n",
      "              precision    recall  f1-score   support\n",
      "\n",
      "         0.0       0.71      0.92      0.80       120\n",
      "         1.0       0.78      0.45      0.57        80\n",
      "\n",
      "    accuracy                           0.73       200\n",
      "   macro avg       0.75      0.68      0.69       200\n",
      "weighted avg       0.74      0.73      0.71       200\n",
      "\n"
     ]
    },
    {
     "name": "stderr",
     "output_type": "stream",
     "text": [
      "c:\\Users\\Tharushi\\.conda\\envs\\myenv\\lib\\site-packages\\sklearn\\metrics\\_classification.py:1344: UndefinedMetricWarning: Precision and F-score are ill-defined and being set to 0.0 in labels with no predicted samples. Use `zero_division` parameter to control this behavior.\n",
      "  _warn_prf(average, modifier, msg_start, len(result))\n",
      "c:\\Users\\Tharushi\\.conda\\envs\\myenv\\lib\\site-packages\\sklearn\\metrics\\_classification.py:1344: UndefinedMetricWarning: Precision and F-score are ill-defined and being set to 0.0 in labels with no predicted samples. Use `zero_division` parameter to control this behavior.\n",
      "  _warn_prf(average, modifier, msg_start, len(result))\n",
      "c:\\Users\\Tharushi\\.conda\\envs\\myenv\\lib\\site-packages\\sklearn\\metrics\\_classification.py:1344: UndefinedMetricWarning: Precision and F-score are ill-defined and being set to 0.0 in labels with no predicted samples. Use `zero_division` parameter to control this behavior.\n",
      "  _warn_prf(average, modifier, msg_start, len(result))\n"
     ]
    }
   ],
   "source": [
    "print(\"Classification Report - Random Forest Classifier\")\n",
    "print(classification_report(y_test, P_rfc))\n",
    "\n",
    "print(\"\\nClassification Report - XGBoost Classifier\")\n",
    "print(classification_report(y_test, P_xgb))\n",
    "\n",
    "print(\"\\nClassification Report - Support Vector Machine\")\n",
    "print(classification_report(y_test, P_svc))\n",
    "\n",
    "print(\"\\nClassification Report - KNN Classifier\")\n",
    "print(classification_report(y_test, P_knn))"
   ]
  },
  {
   "cell_type": "code",
   "execution_count": 17,
   "metadata": {},
   "outputs": [
    {
     "data": {
      "image/png": "[encoded data removed]",
      "text/plain": [
       "<Figure size 1000x1000 with 8 Axes>"
      ]
     },
     "metadata": {},
     "output_type": "display_data"
    }
   ],
   "source": [
    "cm1 = confusion_matrix(y_test, P_rfc)\n",
    "cm2 = confusion_matrix(y_test, P_xgb)\n",
    "cm3 = confusion_matrix(y_test, P_svc)\n",
    "cm4 = confusion_matrix(y_test, P_knn)\n",
    "\n",
    "plt.figure(figsize=(10, 10))\n",
    "plt.subplot(2, 2, 1)\n",
    "sns.heatmap(cm1, annot=True, fmt='d', cmap='Blues')\n",
    "plt.title('Random Forest Classifier - CM')\n",
    "plt.xlabel('Predicted')\n",
    "plt.ylabel('Actual')\n",
    "\n",
    "plt.subplot(2, 2, 2)\n",
    "sns.heatmap(cm2, annot=True, fmt='d', cmap='Blues')\n",
    "plt.title('XGBoost Classifier - CM')\n",
    "plt.xlabel('Predicted')\n",
    "plt.ylabel('Actual')\n",
    "\n",
    "plt.subplot(2, 2, 3)\n",
    "sns.heatmap(cm3, annot=True, fmt='d', cmap='Blues')\n",
    "plt.title('Support Vector Machine - CM')\n",
    "plt.xlabel('Predicted')\n",
    "plt.ylabel('Actual')\n",
    "\n",
    "plt.subplot(2, 2, 4)\n",
    "sns.heatmap(cm4, annot=True, fmt='d', cmap='Blues')\n",
    "plt.title('KNN Classifier - CM')\n",
    "plt.xlabel('Predicted')\n",
    "plt.ylabel('Actual')\n",
    "\n",
    "plt.tight_layout()\n",
    "plt.show()\n"
   ]
  },
  {
   "cell_type": "code",
   "execution_count": 18,
   "metadata": {},
   "outputs": [],
   "source": [
    "# save the model to disk\n",
    "filename = 'weights/donation-2023/xgb.sav'\n",
    "pickle.dump(rfc, open(filename, 'wb'))"
   ]
  },
  {
   "cell_type": "code",
   "execution_count": 19,
   "metadata": {},
   "outputs": [],
   "source": [
    "sample_json = {\n",
    "                \"Age\": 60,\n",
    "                \"Blood type\": \"AB-\",\n",
    "                \"Gender\": \"F\",\n",
    "                \"Height (M)\": 1.76,\n",
    "                \"Weight\": 60,\n",
    "                \"BMI\": 19.36983471,\n",
    "                \"Blood camp held date\": \"10/14/2020\",\n",
    "                \"BMI Y/N\": 1,\n",
    "                \"Last donated date\": \"3/2/2018\",\n",
    "                \"Doner Province\": \"Uva\",\n",
    "                \"Camp held provinces\": \"Western\",\n",
    "                \"DonateBloodTill2023\": 1\n",
    "                }\n",
    "\n",
    "\n",
    "def inference(\n",
    "            sample_json,\n",
    "            cat_cols = ['Blood type', 'Gender', 'Doner Province', 'Camp held provinces'],\n",
    "            label_encoder_path = 'weights/donation-2023/label_encoder.pkl'\n",
    "            ):\n",
    "    sample = pd.DataFrame(sample_json, index=[0])\n",
    "    del sample['Blood camp held date']\n",
    "    del sample['Last donated date']\n",
    "\n",
    "    columns = sample.columns.values\n",
    "    sample.columns = [col.strip() for col in columns]\n",
    "    for col in sample.columns:\n",
    "        sample[col] = sample[col].astype(str).str.strip()\n",
    "\n",
    "    # Load label encoder\n",
    "    with open(label_encoder_path, 'rb') as f:\n",
    "        d = pickle.load(f)\n",
    "\n",
    "    for col in cat_cols:\n",
    "        sample[col] = d[col].transform(sample[col])\n",
    "        \n",
    "    for col in sample.columns:\n",
    "        sample[col] = sample[col].astype(float)\n",
    "\n",
    "    with open('weights/donation-2023/scaler.pkl', 'rb') as f:\n",
    "        scaler = pickle.load(f)\n",
    "\n",
    "    sample = scaler.transform(sample)\n",
    "    pred = int(rfc.predict(sample).squeeze())\n",
    "    return pred"
   ]
  },
  {
   "cell_type": "code",
   "execution_count": 20,
   "metadata": {},
   "outputs": [
    {
     "name": "stderr",
     "output_type": "stream",
     "text": [
      "c:\\Users\\Tharushi\\.conda\\envs\\myenv\\lib\\site-packages\\sklearn\\base.py:432: UserWarning: X has feature names, but StandardScaler was fitted without feature names\n",
      "  warnings.warn(\n"
     ]
    },
    {
     "data": {
      "text/plain": [
       "1"
      ]
     },
     "execution_count": 20,
     "metadata": {},
     "output_type": "execute_result"
    }
   ],
   "source": [
    "inference(sample_json)"
   ]
  },
  {
   "cell_type": "code",
   "execution_count": null,
   "metadata": {},
   "outputs": [],
   "source": []
  }
 ],
 "metadata": {
  "kernelspec": {
   "display_name": "tf210",
   "language": "python",
   "name": "python3"
  },
  "language_info": {
   "codemirror_mode": {
    "name": "ipython",
    "version": 3
   },
   "file_extension": ".py",
   "mimetype": "text/x-python",
   "name": "python",
   "nbconvert_exporter": "python",
   "pygments_lexer": "ipython3",
   "version": "3.8.16"
  },
  "orig_nbformat": 4
 },
 "nbformat": 4,
 "nbformat_minor": 2
}
